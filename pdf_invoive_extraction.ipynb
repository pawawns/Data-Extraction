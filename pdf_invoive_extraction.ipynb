{
  "nbformat": 4,
  "nbformat_minor": 0,
  "metadata": {
    "colab": {
      "name": "pdf_invoive_extraction.ipynb",
      "provenance": [],
      "collapsed_sections": []
    },
    "kernelspec": {
      "name": "python3",
      "display_name": "Python 3"
    }
  },
  "cells": [
    {
      "cell_type": "code",
      "metadata": {
        "id": "T43l7-LCPYHS",
        "colab": {
          "base_uri": "https://localhost:8080/",
          "height": 394
        },
        "outputId": "e53006f0-8172-40c5-da29-1f7c91b9fb54"
      },
      "source": [
        "!pip install pdfplumber"
      ],
      "execution_count": null,
      "outputs": [
        {
          "output_type": "stream",
          "text": [
            "Collecting pdfplumber\n",
            "  Downloading https://files.pythonhosted.org/packages/2c/06/eb883f00ea3d78a2f860c593645498c39120f763d30b099cc98c4392b312/pdfplumber-0.5.23.tar.gz\n",
            "Collecting pdfminer.six==20200517\n",
            "\u001b[?25l  Downloading https://files.pythonhosted.org/packages/b0/c0/ef1c8758bbd86edb10b5443700aac97d0ba27a9ca2e7696db8cd1fdbd5a8/pdfminer.six-20200517-py3-none-any.whl (5.6MB)\n",
            "\u001b[K     |████████████████████████████████| 5.6MB 6.2MB/s \n",
            "\u001b[?25hRequirement already satisfied: Pillow>=7.0.0 in /usr/local/lib/python3.6/dist-packages (from pdfplumber) (7.0.0)\n",
            "Collecting Wand\n",
            "\u001b[?25l  Downloading https://files.pythonhosted.org/packages/21/4d/0c33672e992ed80983895b36d3fbc3203f8e4a0fd36eb74ea07a563ae3ad/Wand-0.6.3-py2.py3-none-any.whl (133kB)\n",
            "\u001b[K     |████████████████████████████████| 143kB 34.9MB/s \n",
            "\u001b[?25hCollecting pycryptodome\n",
            "\u001b[?25l  Downloading https://files.pythonhosted.org/packages/17/55/17fa0b55849dc135f7bc400993a9206bf06d1b5d9520b0bc8d47c57aaef5/pycryptodome-3.9.8-cp36-cp36m-manylinux1_x86_64.whl (13.7MB)\n",
            "\u001b[K     |████████████████████████████████| 13.7MB 244kB/s \n",
            "\u001b[?25hRequirement already satisfied: chardet; python_version > \"3.0\" in /usr/local/lib/python3.6/dist-packages (from pdfminer.six==20200517->pdfplumber) (3.0.4)\n",
            "Requirement already satisfied: sortedcontainers in /usr/local/lib/python3.6/dist-packages (from pdfminer.six==20200517->pdfplumber) (2.2.2)\n",
            "Building wheels for collected packages: pdfplumber\n",
            "  Building wheel for pdfplumber (setup.py) ... \u001b[?25l\u001b[?25hdone\n",
            "  Created wheel for pdfplumber: filename=pdfplumber-0.5.23-cp36-none-any.whl size=29176 sha256=19a7f314ea166d6d2ddacc657d093f76c5847fcdc16aeee09c62224b4cdbea84\n",
            "  Stored in directory: /root/.cache/pip/wheels/f6/4d/ae/abb7b92fbed5d09a835c259f26d2a3223ea929a0ad6d322097\n",
            "Successfully built pdfplumber\n",
            "Installing collected packages: pycryptodome, pdfminer.six, Wand, pdfplumber\n",
            "Successfully installed Wand-0.6.3 pdfminer.six-20200517 pdfplumber-0.5.23 pycryptodome-3.9.8\n"
          ],
          "name": "stdout"
        }
      ]
    },
    {
      "cell_type": "code",
      "metadata": {
        "id": "DiqBLwVBOvrQ"
      },
      "source": [
        "import re\n",
        "\n",
        "import requests\n",
        "import pdfplumber\n",
        "\n",
        "import pandas as pd\n",
        "from collections import namedtuple"
      ],
      "execution_count": null,
      "outputs": []
    },
    {
      "cell_type": "code",
      "metadata": {
        "id": "kN67Gushg-W1"
      },
      "source": [
        "Inv = namedtuple('Inv', 'vend_num vend_name inv_dt due_dt inv_amt net_amt description')\n",
        "\n",
        "\n",
        "VEND_NUM = 19"
      ],
      "execution_count": null,
      "outputs": []
    },
    {
      "cell_type": "code",
      "metadata": {
        "id": "B9lHvhqBO4TU"
      },
      "source": [
        "def download_file(url):\n",
        "  local_filename = url.split('/')[-1]\n",
        "\n",
        "  with requests.get(url) as r:\n",
        "    with open(local_filename, 'wb') as f:\n",
        "      f.write(r.content)\n",
        "\n",
        "  return local_filename"
      ],
      "execution_count": null,
      "outputs": []
    },
    {
      "cell_type": "code",
      "metadata": {
        "id": "CIaEzZ63Q1dn"
      },
      "source": [
        "iv_url = 'https://www.tabs3.com/support/sample/apreports.pdf'"
      ],
      "execution_count": null,
      "outputs": []
    },
    {
      "cell_type": "code",
      "metadata": {
        "id": "hCM-JdLcRhi5",
        "colab": {
          "base_uri": "https://localhost:8080/",
          "height": 34
        },
        "outputId": "318e406c-448d-4510-b165-0a0b83a835f6"
      },
      "source": [
        "iv = download_file(iv_url)\n",
        "print(iv)"
      ],
      "execution_count": null,
      "outputs": [
        {
          "output_type": "stream",
          "text": [
            "apreports.pdf\n"
          ],
          "name": "stdout"
        }
      ]
    },
    {
      "cell_type": "code",
      "metadata": {
        "id": "JZiNTn6fRsq4"
      },
      "source": [
        "with pdfplumber.open(iv) as pdf:\n",
        "    page = pdf.pages[15]\n",
        "    text = page.extract_text()"
      ],
      "execution_count": null,
      "outputs": []
    },
    {
      "cell_type": "code",
      "metadata": {
        "id": "5jR-WAW3U3q0",
        "colab": {
          "base_uri": "https://localhost:8080/",
          "height": 1000
        },
        "outputId": "f4db45c0-d5e9-4c89-bb8b-ce6529ab6915"
      },
      "source": [
        "print(text)"
      ],
      "execution_count": null,
      "outputs": [
        {
          "output_type": "stream",
          "text": [
            "AccountsPayableReportPack\n",
            "changeswillbereflectedunderthe\"New\"heading.Whenaninvoiceormanualcheckisdeleted,\n",
            "theInvoiceAmountisautomaticallychangedtozeroandtheStatusfieldischangedto\"D\".\n",
            "TotalTransactionCount Totalnumberoftransactionsonthelistincludingchangesanddeletions.Eachchangedtransaction\n",
            "(i.e.,botholdandnew)countsasonetransaction.\n",
            "1Notshownonsamplereport.\n",
            "Invoice by Vendor List\n",
            "Date: 08/25/2020 Invoice by Vendor List Page: 1\n",
            "Jensen, Martin & Anderson, P.C.\n",
            "Inv Due Inv Disc Disc Net\n",
            "Voucher # Invoice # Date Date Amount Amount Date Amount 1099 Ref # Description Codes\n",
            "200 United Parcel Service\n",
            "200.01MLJ 3243387 032620 062620 75.00 P 75.00 1 Overnight document delivery * 1\n",
            "3243387 032720 062720 75.00 P 75.00 3 Postage * 1\n",
            "3243387 072620 072620 75.00 P 75.00 2 Overnight document delivery * 1\n",
            "Vendor Totals 225.00 0.00 225.00\n",
            "202 Software Technology, LLC\n",
            "312205 082020 082520 490.00 P 490.00 1 Software Maintenance Agreement Tabs3 * 1\n",
            "312206 082020 082520 239.00 P 239.00 2 Software Maintenance Agreement Tabs3 General Ledger * 1\n",
            "312207 082020 082520 239.00 P 239.00 3 Software Maintenance Agreement Tabs3 Accounts Payable * 1\n",
            "312208 082020 082520 239.00 P 239.00 4 Software Maintenance Agreement Tabs3 Trust Accounting * 1\n",
            "312209 082020 082520 800.00 P 800.00 5 Software Maintenance Agreement PracticeMaster (9 Users) * 1\n",
            "312210 082020 082520 105.00 P 105.00 6 Software Maintenance Agreement Tabs3 Taskbill * 1\n",
            "320559 082520 083020 205.00 205.00 7 Purchase Tabs3 Device Interface Program 1\n",
            "Vendor Totals 2,317.00 0.00 2,317.00\n",
            "203 Clerk of the County Court\n",
            "200.01PAM 042620 042620 225.00 P 225.00 1 Documentation Fee, Filing Fee, and Sheriff Service Fee * 1\n",
            "Vendor Totals 225.00 0.00 225.00\n",
            "204 Clerk of the District Court\n",
            "032720 032720 75.00 P 75.00 2 Filing fee * 1\n",
            "052020 052020 75.00 P 75.00 3 Filing fee * 1\n",
            "850.00 RON 082020 082020 150.00 150.00 1 Petition for Dissolution of Marriage Filing Fee 1\n",
            "Vendor Totals 300.00 0.00 300.00\n",
            "225 Jackson/Wylinda\n",
            "122419 122419 750.00 P 750.00 Y 2 Holiday Party * 1\n",
            "072620 072620 1,500.00 P 1,500.00 Y 1 Catering/Firm Retreat * 1\n",
            "Vendor Totals 2,250.00 0.00 2,250.00\n",
            "240 NELCO\n",
            "5065 2094756 072620 082620 129.85 P 129.85 1 Check order for APS and TAS Checks * 1\n",
            "Vendor Totals 129.85 0.00 129.85\n",
            "250 D & B Real Estate Management Company\n",
            "AUTO 072220 072220 7,500.00 P 7,500.00 Y 1 Monthly Rent (Including Electric, Gas & Garbage) * 1\n",
            "AUTO 072620 072620 7,500.00 P 7,500.00 Y 2 Monthly Rent (Including Electric, Gas & Garbage) * 1\n",
            "5074 KEY 081320 081320 10.00 10.00 N 3 Duplicate Key for building 1\n",
            "Vendor Totals 15,010.00 0.00 15,010.00\n",
            "300 Thomson Reuters Payment Center\n",
            "042520 042520 4.00 P 4.00 3 Online Legal Research * 1\n",
            "052420 052420 75.00 P 75.00 1 Online Legal Research * 1\n",
            "062520 062520 40.00 P 40.00 4 Online Legal Research * 1\n",
            "072920 072920 4.00 P 4.00 2 Online Legal Research * 1\n",
            "073020 073020 50.00 P 50.00 5 Online Legal Research * 1\n",
            "073020 073020 50.00 P 50.00 6 Online Legal Research * 1\n",
            "073020 073020 50.00 P 50.00 7 Online Legal Research * 1\n",
            "073020 073020 50.00 P 50.00 8 Online Legal Research * 1\n",
            "Vendor Totals 323.00 0.00 323.00\n",
            "325 Professional Messenger Services\n",
            "062120 062120 20.00 P 20.00 Y 2 Courier Fee * 1\n",
            "062420 062420 25.00 P 25.00 Y 4 Courier Fee * 1\n",
            "082520 082520 47.50 P 47.50 Y 1 Courier Fee * 1\n",
            "082520 082520 35.00 P 35.00 Y 3 Courier Fee * 1\n",
            "Vendor Totals 127.50 0.00 127.50\n",
            "400 Sprint Local & Long Distance\n",
            "402310760011 082020 082520 68.96 68.96 1 November Cell Phone Charges  1\n",
            "Vendor Totals 68.96 0.00 68.96\n",
            "700 Clean All Janitorial Services\n",
            "AUTO 072220 072520 750.00 P 750.00 Y 1 Monthly Cleaning Charges (Bi-Weekly Service) * 1\n",
            "AUTO 072620 082520 750.00 750.00 Y 2 Monthly Cleaning Charges (Bi-Weekly Service) 1\n",
            "Vendor Totals 1,500.00 0.00 1,500.00\n",
            "Grand Totals 22,476.31 0.00 22,476.31\n",
            "-16-\n"
          ],
          "name": "stdout"
        }
      ]
    },
    {
      "cell_type": "code",
      "metadata": {
        "id": "4r7ePZ7LU_3k"
      },
      "source": [
        "new_vend_re = re.compile(r'^\\d{3} [A-Z].*')"
      ],
      "execution_count": null,
      "outputs": []
    },
    {
      "cell_type": "code",
      "metadata": {
        "id": "cWgQ3C1wVIYb",
        "colab": {
          "base_uri": "https://localhost:8080/",
          "height": 204
        },
        "outputId": "8cc32164-d688-472a-bb2d-9c3d79975c47"
      },
      "source": [
        "for line in text.split('\\n'):\n",
        "    if new_vend_re.match(line):\n",
        "     print(line)"
      ],
      "execution_count": null,
      "outputs": [
        {
          "output_type": "stream",
          "text": [
            "200 United Parcel Service\n",
            "202 Software Technology, LLC\n",
            "203 Clerk of the County Court\n",
            "204 Clerk of the District Court\n",
            "225 Jackson/Wylinda\n",
            "240 NELCO\n",
            "250 D & B Real Estate Management Company\n",
            "300 Thomson Reuters Payment Center\n",
            "325 Professional Messenger Services\n",
            "400 Sprint Local & Long Distance\n",
            "700 Clean All Janitorial Services\n"
          ],
          "name": "stdout"
        }
      ]
    },
    {
      "cell_type": "code",
      "metadata": {
        "id": "cNwDcB5CVOzE",
        "colab": {
          "base_uri": "https://localhost:8080/",
          "height": 391
        },
        "outputId": "e8d0a613-fba3-42b4-ac39-beb685c3ea4b"
      },
      "source": [
        "for line in text.split('\\n'):\n",
        "    if new_vend_re.match(line):\n",
        "        vend_num, *vend_name = line.split()\n",
        "        vend_name = ' '.join(vend_name)\n",
        "        print(vend_num)\n",
        "        print(vend_name)"
      ],
      "execution_count": null,
      "outputs": [
        {
          "output_type": "stream",
          "text": [
            "200\n",
            "United Parcel Service\n",
            "202\n",
            "Software Technology, LLC\n",
            "203\n",
            "Clerk of the County Court\n",
            "204\n",
            "Clerk of the District Court\n",
            "225\n",
            "Jackson/Wylinda\n",
            "240\n",
            "NELCO\n",
            "250\n",
            "D & B Real Estate Management Company\n",
            "300\n",
            "Thomson Reuters Payment Center\n",
            "325\n",
            "Professional Messenger Services\n",
            "400\n",
            "Sprint Local & Long Distance\n",
            "700\n",
            "Clean All Janitorial Services\n"
          ],
          "name": "stdout"
        }
      ]
    },
    {
      "cell_type": "code",
      "metadata": {
        "id": "aM0aGZE6VaPH"
      },
      "source": [
        "inv_line_re = re.compile(r'(\\d{6}) (\\d{6}) ([\\d,]+\\.\\d{2}) [\\sP]*([\\d,]+\\.\\d{2}) [YN ]*\\d (.*?) [*\\s\\d]')"
      ],
      "execution_count": null,
      "outputs": []
    },
    {
      "cell_type": "code",
      "metadata": {
        "id": "QfPnlwHqVhue"
      },
      "source": [
        "line_items = []\n",
        "for line in text.split('\\n'):\n",
        "    if new_vend_re.match(line):\n",
        "        vend_num, *vend_name = line.split()\n",
        "        vend_name = ' '.join(vend_name)    \n",
        "    \n",
        "    line = inv_line_re.search(line)\n",
        "    if line:\n",
        "        inv_dt = line.group(1)\n",
        "        due_dt = line.group(2)\n",
        "        inv_amt = line.group(3)\n",
        "        net_amt = line.group(4)\n",
        "        desc = line.group(5)\n",
        "        line_items.append(Inv(vend_num, vend_name, inv_dt, due_dt, inv_amt, net_amt, desc))"
      ],
      "execution_count": null,
      "outputs": []
    },
    {
      "cell_type": "code",
      "metadata": {
        "id": "Ns5PvM2vVpm7",
        "colab": {
          "base_uri": "https://localhost:8080/",
          "height": 204
        },
        "outputId": "febd8ed6-966f-4ca7-e9c4-bda30fc10844"
      },
      "source": [
        "df = pd.DataFrame(line_items)\n",
        "df.head()"
      ],
      "execution_count": null,
      "outputs": [
        {
          "output_type": "execute_result",
          "data": {
            "text/html": [
              "<div>\n",
              "<style scoped>\n",
              "    .dataframe tbody tr th:only-of-type {\n",
              "        vertical-align: middle;\n",
              "    }\n",
              "\n",
              "    .dataframe tbody tr th {\n",
              "        vertical-align: top;\n",
              "    }\n",
              "\n",
              "    .dataframe thead th {\n",
              "        text-align: right;\n",
              "    }\n",
              "</style>\n",
              "<table border=\"1\" class=\"dataframe\">\n",
              "  <thead>\n",
              "    <tr style=\"text-align: right;\">\n",
              "      <th></th>\n",
              "      <th>vend_num</th>\n",
              "      <th>vend_name</th>\n",
              "      <th>inv_dt</th>\n",
              "      <th>due_dt</th>\n",
              "      <th>inv_amt</th>\n",
              "      <th>net_amt</th>\n",
              "      <th>description</th>\n",
              "    </tr>\n",
              "  </thead>\n",
              "  <tbody>\n",
              "    <tr>\n",
              "      <th>0</th>\n",
              "      <td>200</td>\n",
              "      <td>United Parcel Service</td>\n",
              "      <td>032620</td>\n",
              "      <td>062620</td>\n",
              "      <td>75.00</td>\n",
              "      <td>75.00</td>\n",
              "      <td>Overnight document delivery</td>\n",
              "    </tr>\n",
              "    <tr>\n",
              "      <th>1</th>\n",
              "      <td>200</td>\n",
              "      <td>United Parcel Service</td>\n",
              "      <td>032720</td>\n",
              "      <td>062720</td>\n",
              "      <td>75.00</td>\n",
              "      <td>75.00</td>\n",
              "      <td>Postage</td>\n",
              "    </tr>\n",
              "    <tr>\n",
              "      <th>2</th>\n",
              "      <td>200</td>\n",
              "      <td>United Parcel Service</td>\n",
              "      <td>072620</td>\n",
              "      <td>072620</td>\n",
              "      <td>75.00</td>\n",
              "      <td>75.00</td>\n",
              "      <td>Overnight document delivery</td>\n",
              "    </tr>\n",
              "    <tr>\n",
              "      <th>3</th>\n",
              "      <td>202</td>\n",
              "      <td>Software Technology, LLC</td>\n",
              "      <td>082020</td>\n",
              "      <td>082520</td>\n",
              "      <td>490.00</td>\n",
              "      <td>490.00</td>\n",
              "      <td>Software Maintenance Agreement Tabs3</td>\n",
              "    </tr>\n",
              "    <tr>\n",
              "      <th>4</th>\n",
              "      <td>202</td>\n",
              "      <td>Software Technology, LLC</td>\n",
              "      <td>082020</td>\n",
              "      <td>082520</td>\n",
              "      <td>239.00</td>\n",
              "      <td>239.00</td>\n",
              "      <td>Software Maintenance Agreement Tabs3 General L...</td>\n",
              "    </tr>\n",
              "  </tbody>\n",
              "</table>\n",
              "</div>"
            ],
            "text/plain": [
              "  vend_num  ...                                        description\n",
              "0      200  ...                        Overnight document delivery\n",
              "1      200  ...                                            Postage\n",
              "2      200  ...                        Overnight document delivery\n",
              "3      202  ...               Software Maintenance Agreement Tabs3\n",
              "4      202  ...  Software Maintenance Agreement Tabs3 General L...\n",
              "\n",
              "[5 rows x 7 columns]"
            ]
          },
          "metadata": {
            "tags": []
          },
          "execution_count": 14
        }
      ]
    },
    {
      "cell_type": "code",
      "metadata": {
        "id": "VopyZ6ODVwLj",
        "colab": {
          "base_uri": "https://localhost:8080/",
          "height": 204
        },
        "outputId": "64bed13f-2d99-4d75-872f-6ee6b0aa8ea9"
      },
      "source": [
        "df.head()"
      ],
      "execution_count": null,
      "outputs": [
        {
          "output_type": "execute_result",
          "data": {
            "text/html": [
              "<div>\n",
              "<style scoped>\n",
              "    .dataframe tbody tr th:only-of-type {\n",
              "        vertical-align: middle;\n",
              "    }\n",
              "\n",
              "    .dataframe tbody tr th {\n",
              "        vertical-align: top;\n",
              "    }\n",
              "\n",
              "    .dataframe thead th {\n",
              "        text-align: right;\n",
              "    }\n",
              "</style>\n",
              "<table border=\"1\" class=\"dataframe\">\n",
              "  <thead>\n",
              "    <tr style=\"text-align: right;\">\n",
              "      <th></th>\n",
              "      <th>vend_num</th>\n",
              "      <th>vend_name</th>\n",
              "      <th>inv_dt</th>\n",
              "      <th>due_dt</th>\n",
              "      <th>inv_amt</th>\n",
              "      <th>net_amt</th>\n",
              "      <th>description</th>\n",
              "    </tr>\n",
              "  </thead>\n",
              "  <tbody>\n",
              "    <tr>\n",
              "      <th>0</th>\n",
              "      <td>200</td>\n",
              "      <td>United Parcel Service</td>\n",
              "      <td>032620</td>\n",
              "      <td>062620</td>\n",
              "      <td>75.00</td>\n",
              "      <td>75.00</td>\n",
              "      <td>Overnight document delivery</td>\n",
              "    </tr>\n",
              "    <tr>\n",
              "      <th>1</th>\n",
              "      <td>200</td>\n",
              "      <td>United Parcel Service</td>\n",
              "      <td>032720</td>\n",
              "      <td>062720</td>\n",
              "      <td>75.00</td>\n",
              "      <td>75.00</td>\n",
              "      <td>Postage</td>\n",
              "    </tr>\n",
              "    <tr>\n",
              "      <th>2</th>\n",
              "      <td>200</td>\n",
              "      <td>United Parcel Service</td>\n",
              "      <td>072620</td>\n",
              "      <td>072620</td>\n",
              "      <td>75.00</td>\n",
              "      <td>75.00</td>\n",
              "      <td>Overnight document delivery</td>\n",
              "    </tr>\n",
              "    <tr>\n",
              "      <th>3</th>\n",
              "      <td>202</td>\n",
              "      <td>Software Technology, LLC</td>\n",
              "      <td>082020</td>\n",
              "      <td>082520</td>\n",
              "      <td>490.00</td>\n",
              "      <td>490.00</td>\n",
              "      <td>Software Maintenance Agreement Tabs3</td>\n",
              "    </tr>\n",
              "    <tr>\n",
              "      <th>4</th>\n",
              "      <td>202</td>\n",
              "      <td>Software Technology, LLC</td>\n",
              "      <td>082020</td>\n",
              "      <td>082520</td>\n",
              "      <td>239.00</td>\n",
              "      <td>239.00</td>\n",
              "      <td>Software Maintenance Agreement Tabs3 General L...</td>\n",
              "    </tr>\n",
              "  </tbody>\n",
              "</table>\n",
              "</div>"
            ],
            "text/plain": [
              "  vend_num  ...                                        description\n",
              "0      200  ...                        Overnight document delivery\n",
              "1      200  ...                                            Postage\n",
              "2      200  ...                        Overnight document delivery\n",
              "3      202  ...               Software Maintenance Agreement Tabs3\n",
              "4      202  ...  Software Maintenance Agreement Tabs3 General L...\n",
              "\n",
              "[5 rows x 7 columns]"
            ]
          },
          "metadata": {
            "tags": []
          },
          "execution_count": 15
        }
      ]
    },
    {
      "cell_type": "code",
      "metadata": {
        "id": "QPRId1bHV0y0"
      },
      "source": [
        "df['inv_dt'] = pd.to_datetime(df['inv_dt'])\n",
        "df['due_dt'] = pd.to_datetime(df['due_dt'])"
      ],
      "execution_count": null,
      "outputs": []
    },
    {
      "cell_type": "code",
      "metadata": {
        "id": "8Eg6F2loV5lh",
        "colab": {
          "base_uri": "https://localhost:8080/",
          "height": 204
        },
        "outputId": "84dd407a-0a1a-47b5-a937-668746efa88c"
      },
      "source": [
        "df.head()"
      ],
      "execution_count": null,
      "outputs": [
        {
          "output_type": "execute_result",
          "data": {
            "text/html": [
              "<div>\n",
              "<style scoped>\n",
              "    .dataframe tbody tr th:only-of-type {\n",
              "        vertical-align: middle;\n",
              "    }\n",
              "\n",
              "    .dataframe tbody tr th {\n",
              "        vertical-align: top;\n",
              "    }\n",
              "\n",
              "    .dataframe thead th {\n",
              "        text-align: right;\n",
              "    }\n",
              "</style>\n",
              "<table border=\"1\" class=\"dataframe\">\n",
              "  <thead>\n",
              "    <tr style=\"text-align: right;\">\n",
              "      <th></th>\n",
              "      <th>vend_num</th>\n",
              "      <th>vend_name</th>\n",
              "      <th>inv_dt</th>\n",
              "      <th>due_dt</th>\n",
              "      <th>inv_amt</th>\n",
              "      <th>net_amt</th>\n",
              "      <th>description</th>\n",
              "    </tr>\n",
              "  </thead>\n",
              "  <tbody>\n",
              "    <tr>\n",
              "      <th>0</th>\n",
              "      <td>200</td>\n",
              "      <td>United Parcel Service</td>\n",
              "      <td>2020-03-26</td>\n",
              "      <td>2020-06-26</td>\n",
              "      <td>75.00</td>\n",
              "      <td>75.00</td>\n",
              "      <td>Overnight document delivery</td>\n",
              "    </tr>\n",
              "    <tr>\n",
              "      <th>1</th>\n",
              "      <td>200</td>\n",
              "      <td>United Parcel Service</td>\n",
              "      <td>2020-03-27</td>\n",
              "      <td>2020-06-27</td>\n",
              "      <td>75.00</td>\n",
              "      <td>75.00</td>\n",
              "      <td>Postage</td>\n",
              "    </tr>\n",
              "    <tr>\n",
              "      <th>2</th>\n",
              "      <td>200</td>\n",
              "      <td>United Parcel Service</td>\n",
              "      <td>2020-07-26</td>\n",
              "      <td>2020-07-26</td>\n",
              "      <td>75.00</td>\n",
              "      <td>75.00</td>\n",
              "      <td>Overnight document delivery</td>\n",
              "    </tr>\n",
              "    <tr>\n",
              "      <th>3</th>\n",
              "      <td>202</td>\n",
              "      <td>Software Technology, LLC</td>\n",
              "      <td>2020-08-20</td>\n",
              "      <td>2020-08-25</td>\n",
              "      <td>490.00</td>\n",
              "      <td>490.00</td>\n",
              "      <td>Software Maintenance Agreement Tabs3</td>\n",
              "    </tr>\n",
              "    <tr>\n",
              "      <th>4</th>\n",
              "      <td>202</td>\n",
              "      <td>Software Technology, LLC</td>\n",
              "      <td>2020-08-20</td>\n",
              "      <td>2020-08-25</td>\n",
              "      <td>239.00</td>\n",
              "      <td>239.00</td>\n",
              "      <td>Software Maintenance Agreement Tabs3 General L...</td>\n",
              "    </tr>\n",
              "  </tbody>\n",
              "</table>\n",
              "</div>"
            ],
            "text/plain": [
              "  vend_num  ...                                        description\n",
              "0      200  ...                        Overnight document delivery\n",
              "1      200  ...                                            Postage\n",
              "2      200  ...                        Overnight document delivery\n",
              "3      202  ...               Software Maintenance Agreement Tabs3\n",
              "4      202  ...  Software Maintenance Agreement Tabs3 General L...\n",
              "\n",
              "[5 rows x 7 columns]"
            ]
          },
          "metadata": {
            "tags": []
          },
          "execution_count": 17
        }
      ]
    },
    {
      "cell_type": "code",
      "metadata": {
        "id": "ko6TIwBNV8Vu"
      },
      "source": [
        "df['inv_amt'] = df['inv_amt'].map(lambda x: float(x.replace(',', '')))"
      ],
      "execution_count": null,
      "outputs": []
    },
    {
      "cell_type": "code",
      "metadata": {
        "id": "igz9QetvWFaC",
        "colab": {
          "base_uri": "https://localhost:8080/",
          "height": 119
        },
        "outputId": "014064c2-7f3f-424e-f1ba-173c84f32aa2"
      },
      "source": [
        "df.sum()"
      ],
      "execution_count": null,
      "outputs": [
        {
          "output_type": "execute_result",
          "data": {
            "text/plain": [
              "vend_num       2002002002022022022022022022022032042042042252...\n",
              "vend_name      United Parcel ServiceUnited Parcel ServiceUnit...\n",
              "inv_amt                                                  22476.3\n",
              "net_amt        75.0075.0075.00490.00239.00239.00239.00800.001...\n",
              "description    Overnight document deliveryPostageOvernight do...\n",
              "dtype: object"
            ]
          },
          "metadata": {
            "tags": []
          },
          "execution_count": 19
        }
      ]
    },
    {
      "cell_type": "code",
      "metadata": {
        "id": "Ml9urpqbWKCp"
      },
      "source": [
        "df.to_csv('inv_lines.csv')"
      ],
      "execution_count": null,
      "outputs": []
    },
    {
      "cell_type": "code",
      "metadata": {
        "id": "jcZ7-Y4tOybE"
      },
      "source": [
        ""
      ],
      "execution_count": null,
      "outputs": []
    }
  ]
}